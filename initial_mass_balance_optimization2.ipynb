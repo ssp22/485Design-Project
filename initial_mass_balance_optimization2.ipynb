{
  "nbformat": 4,
  "nbformat_minor": 0,
  "metadata": {
    "colab": {
      "name": "initial mass balance optimization",
      "provenance": [],
      "collapsed_sections": [],
      "include_colab_link": true
    },
    "kernelspec": {
      "name": "python3",
      "display_name": "Python 3"
    }
  },
  "cells": [
    {
      "cell_type": "markdown",
      "metadata": {
        "id": "view-in-github",
        "colab_type": "text"
      },
      "source": [
        "<a href=\"https://colab.research.google.com/github/ssp22/485Design-Project/blob/master/initial_mass_balance_optimization2.ipynb\" target=\"_parent\"><img src=\"https://colab.research.google.com/assets/colab-badge.svg\" alt=\"Open In Colab\"/></a>"
      ]
    },
    {
      "cell_type": "code",
      "metadata": {
        "id": "vWBiVCUzn1-Y",
        "colab_type": "code",
        "colab": {}
      },
      "source": [
        "import numpy as np\n",
        "from scipy.integrate import odeint\n",
        "import matplotlib.pyplot as plt"
      ],
      "execution_count": 0,
      "outputs": []
    },
    {
      "cell_type": "code",
      "metadata": {
        "id": "eYL041d8l9O5",
        "colab_type": "code",
        "colab": {}
      },
      "source": [
        "# Define parameters\n",
        "  dP = 40 # bar\n",
        "  dPi = 5.7 # bar\n",
        "  R = 0.1 # at 40 bar, 5C\n",
        "  k_w = 8.75 * 10 ** (-6) # g / (cm^2 s bar)\n",
        "  diff_P = dP - dPi\n",
        "  X = 0.05 # split ratio\n",
        "  # J_P_ref = 3 * 10 ** (-4) # g / cm^2 s \n",
        "  C_Et0 = 0.0395 # weight percent\n",
        "  M_f = 14000 # g / s # flow out of tank\n",
        "  t = np.linspace(0,50000,100)\n",
        "  Product = 29.8 * 3968 * 6 * 10**4\n",
        "\n",
        "for i in range(1500000,2000000,10000):\n",
        "    A = i # cm^2 # membrane area\n",
        "    for j in range(1400000,2500000,50000):\n",
        "        m_0 = j # g # initial batch feed\n",
        "        # solve ODE\n",
        "        C = odeint(dCdt2,C_Et0,t)\n",
        "        count = 0\n",
        "        val= 10\n",
        "        while (val >= 0.00395):\n",
        "          val = C[count]\n",
        "          count += 1\n",
        "          # break\n",
        "        if (val <= 0.00395):\n",
        "          Total = 0.8*365*20*3600/t[count]*m_0\n",
        "          if (Total >= Product and val <= 0.00395):\n",
        "            print('A = ', i , ' cm^2')\n",
        "            print('batch feed = ',m_0,' g')\n",
        "            print('time for one batch',t[count] ,'s')\n",
        "            print('final conc = ', val)\n",
        "            print('total product= ', Total,' g')\n",
        "\n",
        "# optimization result:\n",
        "# A =  1540000  cm^2\n",
        "# batch feed =  2400000  g\n",
        "# time for one batch 7070.707070707071 s\n",
        "# final conc =  [0.0039155]\n",
        "# total product=  7136146285.714286  g"
      ],
      "execution_count": 0,
      "outputs": []
    },
    {
      "cell_type": "code",
      "metadata": {
        "id": "Cx7fgElC8jHC",
        "colab_type": "code",
        "colab": {}
      },
      "source": [
        "def dCdt2(C_Et,t):\n",
        "    # Define flow rates\n",
        "    M_p1 = A * k_w * diff_P * (1 + C_Et * (1-R)) \n",
        "    M_r1 = M_f - M_p1\n",
        "    C_r1 = (M_f * C_Et - M_p1 * (1-R) * C_Et) / M_r1\n",
        "    M_p2 = A * k_w * diff_P * (1 + C_r1 * (1-R))\n",
        "    M_r2 = (1-X) * M_r1 - M_p2\n",
        "    C_r2 = ((1-X)*M_r1*C_r1 - M_p2 * (1-R) * C_r1) / M_r2\n",
        "    dCdt = (M_r1 * X * C_r1 + M_r2 * C_r2 - M_f * C_Et) / m_0\n",
        "    M_water = M_p1 + M_p2\n",
        "    return dCdt"
      ],
      "execution_count": 0,
      "outputs": []
    }
  ]
}