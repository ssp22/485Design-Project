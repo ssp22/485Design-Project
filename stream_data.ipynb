{
  "nbformat": 4,
  "nbformat_minor": 0,
  "metadata": {
    "colab": {
      "name": "stream data",
      "provenance": [],
      "authorship_tag": "ABX9TyMgw+np0zc0kpqV8FucE031",
      "include_colab_link": true
    },
    "kernelspec": {
      "name": "python3",
      "display_name": "Python 3"
    }
  },
  "cells": [
    {
      "cell_type": "markdown",
      "metadata": {
        "id": "view-in-github",
        "colab_type": "text"
      },
      "source": [
        "<a href=\"https://colab.research.google.com/github/ssp22/485Design-Project/blob/master/stream_data.ipynb\" target=\"_parent\"><img src=\"https://colab.research.google.com/assets/colab-badge.svg\" alt=\"Open In Colab\"/></a>"
      ]
    },
    {
      "cell_type": "code",
      "metadata": {
        "id": "60AuH6rflFPT",
        "colab_type": "code",
        "colab": {}
      },
      "source": [
        "import numpy as np\n",
        "import scipy as sp\n",
        "from matplotlib import pyplot as plt"
      ],
      "execution_count": 0,
      "outputs": []
    },
    {
      "cell_type": "code",
      "metadata": {
        "id": "FlRfbUfulPzK",
        "colab_type": "code",
        "colab": {
          "base_uri": "https://localhost:8080/",
          "height": 286
        },
        "outputId": "1d731ee7-9f11-4667-82e0-40d8109b4d2e"
      },
      "source": [
        "# 0 is water\n",
        "# 1 is ethanol\n",
        "# 2 is other components\n",
        "# all units in grams\n",
        "\n",
        "streamTable = np.zeros((8,3))\n",
        "print(streamTable)\n",
        "\n",
        "#set water in stream 1 to 10000 g\n",
        "streamTable[0,0] = 10000\n",
        "#set feed stream to membrane separator tanks to \n",
        "print(streamTable)\n",
        "\n"
      ],
      "execution_count": 17,
      "outputs": [
        {
          "output_type": "stream",
          "text": [
            "[[0. 0. 0.]\n",
            " [0. 0. 0.]\n",
            " [0. 0. 0.]\n",
            " [0. 0. 0.]\n",
            " [0. 0. 0.]\n",
            " [0. 0. 0.]\n",
            " [0. 0. 0.]\n",
            " [0. 0. 0.]]\n",
            "[[10000.     0.     0.]\n",
            " [    0.     0.     0.]\n",
            " [    0.     0.     0.]\n",
            " [    0.     0.     0.]\n",
            " [    0.     0.     0.]\n",
            " [    0.     0.     0.]\n",
            " [    0.     0.     0.]\n",
            " [    0.     0.     0.]]\n"
          ],
          "name": "stdout"
        }
      ]
    },
    {
      "cell_type": "code",
      "metadata": {
        "id": "r1KtKvY7l5mw",
        "colab_type": "code",
        "colab": {}
      },
      "source": [
        ""
      ],
      "execution_count": 0,
      "outputs": []
    }
  ]
}