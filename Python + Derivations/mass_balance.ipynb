{
  "nbformat": 4,
  "nbformat_minor": 0,
  "metadata": {
    "colab": {
      "name": "mass balance.ipynb",
      "provenance": [],
      "include_colab_link": true
    },
    "kernelspec": {
      "name": "python3",
      "display_name": "Python 3"
    }
  },
  "cells": [
    {
      "cell_type": "markdown",
      "metadata": {
        "id": "view-in-github",
        "colab_type": "text"
      },
      "source": [
        "<a href=\"https://colab.research.google.com/github/ssp22/485Design-Project/blob/master/Python%20%2B%20Derivations/mass_balance.ipynb\" target=\"_parent\"><img src=\"https://colab.research.google.com/assets/colab-badge.svg\" alt=\"Open In Colab\"/></a>"
      ]
    },
    {
      "cell_type": "code",
      "metadata": {
        "id": "vWBiVCUzn1-Y",
        "colab_type": "code",
        "colab": {}
      },
      "source": [
        "import numpy as np\n",
        "from scipy.integrate import odeint\n",
        "import matplotlib.pyplot as plt"
      ],
      "execution_count": 0,
      "outputs": []
    },
    {
      "cell_type": "code",
      "metadata": {
        "id": "eYL041d8l9O5",
        "colab_type": "code",
        "colab": {}
      },
      "source": [
        "# Define parameters\n",
        "dP = 40 # bar\n",
        "dPi = 5.7 # bar\n",
        "A = 795000 # cm^2 # membrane area\n",
        "R = 0.1 # at 40 bar, 5C\n",
        "k_w = 1.25 * 10 ** (-5) # g / (cm^2 s bar)\n",
        "diff_P = dP - dPi\n",
        "X = 0.01 # split ratio\n",
        "# J_P_ref = 3 * 10 ** (-4) # g / cm^2 s \n",
        "\n",
        "# Initial conditions\n",
        "m_0 = 1800000 # g # initial batch feed\n",
        "C_Et0 = 0.0395 # weight percent\n",
        "M_f = 1500 # g / s # flow out of tank\n",
        "\n",
        "\n",
        "def dCdt2(C_Et,t):\n",
        "    # Define flow rates\n",
        "    M_p1 = A * k_w * diff_P * (1 + C_Et * (1-R)) # \n",
        "    # M_p1 = A * J_P_ref\n",
        "    M_r1 = M_f - M_p1\n",
        "    if (M_r1 < 0):\n",
        "      return 0\n",
        "    C_r1 = (M_f * C_Et - M_p1 * (1-R) * C_Et) / M_r1\n",
        "    M_p2 = A * k_w * diff_P * (1 + C_r1 * (1-R))\n",
        "    # M_p2 = A * J_P_ref\n",
        "    M_r2 = (1-X) * M_r1 - M_p2\n",
        "    if (M_r2 < 0):\n",
        "      return 0\n",
        "    C_r2 = ((1-X)*M_r1*C_r1 - M_p2 * (1-R) * C_r1) / M_r2\n",
        "    dCdt = (M_r1 * X * C_r1 + M_r2 * C_r2 - M_f * C_Et) / m_0\n",
        "    M_water = M_p1 + M_p2\n",
        "    return dCdt\n",
        "\n",
        "t = np.arange(0,10000,1)\n",
        "\n",
        "# solve ODE\n",
        "C = odeint(dCdt2,C_Et0,t)\n",
        "\n",
        "# redefine stream variables outside the ODE\n",
        "M_p1 = A * k_w * diff_P * (1 + C * (1-R)) # \n",
        "M_p1water = A * k_w * diff_P\n",
        "M_p1ethanol = M_p1-M_p1water\n",
        "M_r1 = M_f - M_p1\n",
        "C_r1 = (M_f * C - M_p1 * (1-R) * C) / M_r1\n",
        "M_p2 = A * k_w * diff_P * (1 + C_r1 * (1-R))\n",
        "M_p2water = A * k_w * diff_P\n",
        "M_p2ethanol = M_p2-M_p2water\n",
        "M_r2 = (1-X) * M_r1 - M_p2\n",
        "C_r2 = ((1-X)*M_r1*C_r1 - M_p2 * (1-R) * C_r1) / M_r2\n",
        "M_water = M_p1 + M_p2"
      ],
      "execution_count": 0,
      "outputs": []
    },
    {
      "cell_type": "code",
      "metadata": {
        "id": "3MFpG-yrSrvT",
        "colab_type": "code",
        "outputId": "1031414c-b87e-4b90-d0a9-6d0e906cc705",
        "colab": {
          "base_uri": "https://localhost:8080/",
          "height": 238
        }
      },
      "source": [
        "# For stream table\n",
        "count = 0\n",
        "val= 10\n",
        "while (val >= 0.00395):\n",
        "  val = C[count]\n",
        "  count += 1\n",
        "if (val <= 0.00395):\n",
        "  Total = 365*20*3600/t[count]*m_0\n",
        "  # print('total product= ', Total,' g')\n",
        "  BPY = Total / (29.8 * 3968)\n",
        "print('Product in BPY = ',BPY)\n",
        "print('time for a batch = ',t[count],'s')\n",
        "print('initial mass flow rates (g/s): ',M_r1[0],M_r2[0],M_p1[0],M_p2[0],M_water[0])\n",
        "print('endpoint mass flow rates (g/s): ',M_r1[count],M_r2[count],M_p1[count],M_p2[count],M_water[count])\n",
        "print('t = 0: permeate 1 water = ',M_p1water)\n",
        "print('t = 0: permeate 1 ethanol = ',M_p1ethanol[0])\n",
        "print('t = 0: permeate 2 water = ',M_p2water)\n",
        "print('t = 0: permeate 2 ethanol = ',M_p2ethanol[0])\n",
        "print('t = final: permeate 1 water = ',M_p1water)\n",
        "print('t = final: permeate 1 ethanol = ',M_p1ethanol[count])\n",
        "print('t = final: permeate 2 water = ',M_p2water)\n",
        "print('t = final: permeate 2 ethanol = ',M_p2ethanol[count])\n",
        "print('final mass fraction of ethanol: ',C[count])"
      ],
      "execution_count": 48,
      "outputs": [
        {
          "output_type": "stream",
          "text": [
            "Product in BPY =  60936.1775520067\n",
            "time for a batch =  6565 s\n",
            "initial mass flow rates (g/s):  [1147.02631031] [782.20946831] [352.97368969] [353.3465789] [706.32026859]\n",
            "endpoint mass flow rates (g/s):  [1157.93259612] [804.25008732] [342.06740388] [342.10318284] [684.17058671]\n",
            "t = 0: permeate 1 water =  340.85625\n",
            "t = 0: permeate 1 ethanol =  [12.11743969]\n",
            "t = 0: permeate 2 water =  340.85625\n",
            "t = 0: permeate 2 ethanol =  [12.4903289]\n",
            "t = final: permeate 1 water =  340.85625\n",
            "t = final: permeate 1 ethanol =  [1.21115388]\n",
            "t = final: permeate 2 water =  340.85625\n",
            "t = final: permeate 2 ethanol =  [1.24693284]\n",
            "final mass fraction of ethanol:  [0.00394808]\n"
          ],
          "name": "stdout"
        }
      ]
    },
    {
      "cell_type": "code",
      "metadata": {
        "id": "5uFPYr2SOpP1",
        "colab_type": "code",
        "outputId": "3144ca41-3e75-4f94-d98d-382cd1cf13d5",
        "colab": {
          "base_uri": "https://localhost:8080/",
          "height": 170
        }
      },
      "source": [
        "# Permeate / feeding water rate by avg-int\n",
        "a = M_water[:count]\n",
        "b = t[:count]\n",
        "avg_p = np.trapz(a,b,axis=0) / count\n",
        "avg_r1 = np.trapz(M_r1[:count],b,axis=0) / count\n",
        "avg_r2 = np.trapz(M_r2[:count],b,axis=0) / count\n",
        "avg_C = np.trapz(C[:count],b,axis=0) / count\n",
        "avg_Cr1 = np.trapz(C_r1[:count],b,axis=0) / count\n",
        "avg_Cr2 = np.trapz(C_r2[:count],b,axis=0) / count\n",
        "print('Average permeate = feed water = ',avg_p,' g/s')\n",
        "# print('Average retentate 1 = ',avg_r1, ' g/s with a concentration of ',avg_Cr1)\n",
        "# print('Average retentate 2 = ',avg_r2, ' g/s with a concentration of ',avg_Cr2)\n",
        "print('Pump 1:')\n",
        "print('Flow rate = ',M_f,' g/s')\n",
        "print('Pressure drop = ',dP,' bar')\n",
        "print('S1 conc = ',avg_C)\n",
        "print('Pump 2:')\n",
        "print('Flow rate = ',avg_r1*(1-X),' g/s')\n",
        "print('Pressure drop = ',diff_P+dPi*(M_f/avg_r1),' bar')\n",
        "print('S2 conc = ',avg_Cr1)"
      ],
      "execution_count": 49,
      "outputs": [
        {
          "output_type": "stream",
          "text": [
            "Average permeate = feed water =  [691.16701476]  g/s\n",
            "Pump 1:\n",
            "Flow rate =  1500  g/s\n",
            "Pressure drop =  40  bar\n",
            "S1 conc =  [0.01534761]\n",
            "Pump 2:\n",
            "Flow rate =  [1142.71639872]  g/s\n",
            "Pressure drop =  [41.70734972]  bar\n",
            "S2 conc =  [0.01581037]\n"
          ],
          "name": "stdout"
        }
      ]
    },
    {
      "cell_type": "code",
      "metadata": {
        "id": "LtrQ1oLu3Fd5",
        "colab_type": "code",
        "colab": {}
      },
      "source": [
        "# plot results\n",
        "plt.plot(t,C)\n",
        "plt.xlabel('Time [s]')\n",
        "plt.ylabel('Ethanol content in tank (mass fraction)')\n",
        "plt.show()\n",
        "\n",
        "plt.plot(t,C_r1)\n",
        "plt.xlabel('Time [s]')\n",
        "plt.ylabel('Ethanol content in retantate1 (mass fraction)')\n",
        "plt.show()\n",
        "\n",
        "plt.plot(t,C_r2)\n",
        "plt.xlabel('Time [s]')\n",
        "plt.ylabel('Ethanol content in retantate2 (mass fraction)')\n",
        "plt.show()\n",
        "\n",
        "plt.plot(t,M_p1)\n",
        "plt.xlabel('Time [s]')\n",
        "plt.ylabel('Flow rate penetrate1 [g/s]')\n",
        "plt.show()\n",
        "\n",
        "plt.plot(t,M_p2)\n",
        "plt.xlabel('Time [s]')\n",
        "plt.ylabel('Flow rate penetrate2 [g/s]')\n",
        "plt.show()\n",
        "\n",
        "plt.plot(t,M_water)\n",
        "plt.xlabel('Time [s]')\n",
        "plt.ylabel('Flow rate water [g/s]')\n",
        "plt.show()"
      ],
      "execution_count": 0,
      "outputs": []
    }
  ]
}