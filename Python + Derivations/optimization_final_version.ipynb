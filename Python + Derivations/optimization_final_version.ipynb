{
  "nbformat": 4,
  "nbformat_minor": 0,
  "metadata": {
    "colab": {
      "name": "optimization - final version",
      "provenance": [],
      "collapsed_sections": [],
      "include_colab_link": true
    },
    "kernelspec": {
      "name": "python3",
      "display_name": "Python 3"
    }
  },
  "cells": [
    {
      "cell_type": "markdown",
      "metadata": {
        "id": "view-in-github",
        "colab_type": "text"
      },
      "source": [
        "<a href=\"https://colab.research.google.com/github/ssp22/485Design-Project/blob/master/Python%20%2B%20Derivations/optimization_final_version.ipynb\" target=\"_parent\"><img src=\"https://colab.research.google.com/assets/colab-badge.svg\" alt=\"Open In Colab\"/></a>"
      ]
    },
    {
      "cell_type": "code",
      "metadata": {
        "id": "vWBiVCUzn1-Y",
        "colab_type": "code",
        "colab": {}
      },
      "source": [
        "import numpy as np\n",
        "from scipy.integrate import odeint\n",
        "import matplotlib.pyplot as plt"
      ],
      "execution_count": 0,
      "outputs": []
    },
    {
      "cell_type": "code",
      "metadata": {
        "id": "eYL041d8l9O5",
        "colab_type": "code",
        "outputId": "c434dc01-ed28-46f1-c3d6-45a70a068866",
        "colab": {
          "base_uri": "https://localhost:8080/",
          "height": 119
        }
      },
      "source": [
        "# Define parameters\n",
        "  dP = 40 # bar\n",
        "  dPi = 5.7 # bar\n",
        "  R = 0.1 # at 40 bar, 5C\n",
        "  k_w = 1.25 * 10 ** (-5) # g / (cm^2 s bar)\n",
        "  diff_P = dP - dPi\n",
        "  X = 0.05 # split ratio\n",
        "  C_Et0 = 0.0395 # weight percent\n",
        "  M_f = 1000 # g / s # flow out of tank\n",
        "  t = np.linspace(0,10000,10000)\n",
        "  Product = 6 * 10**4\n",
        "  Max = Product\n",
        "  Limit = 6.1 * 10**4\n",
        "  A = 953000 # cm^2 # membrane area\n",
        "  Parameters = [1,2,3,4,5]\n",
        "\n",
        "for i in range(650000,840000,5000):\n",
        "    A = i\n",
        "    for j in range(1600000,1900000,10000):\n",
        "        m_0 = j # g # initial batch feed\n",
        "        for k in range(500,2000,100):\n",
        "          M_f = k\n",
        "          # solve ODE\n",
        "          C = odeint(dCdt2,C_Et0,t)\n",
        "          count = 0\n",
        "          val= 10\n",
        "          if (np.amin(C)<=0.00395):\n",
        "            while (val >= 0.00395):\n",
        "              val = C[count]\n",
        "              count += 1\n",
        "            # break\n",
        "          if (val <= 0.00395):\n",
        "            Total = 365*20*3600/t[count]*m_0/ (29.8 * 3968)\n",
        "            if (Total > Max and Total <= Limit):\n",
        "              Max = Total\n",
        "              Parameters[0] = i\n",
        "              Parameters[1] = j\n",
        "              Parameters[2] = k\n",
        "              Parameters[3] = t[count]\n",
        "              Parameters[4] = val\n",
        " \n",
        "print('membrane area = ', Parameters[0],'cm2')\n",
        "print('batch feed = ',Parameters[1],' g')\n",
        "print('flow out of tank = ',Parameters[2],'g/s')\n",
        "print('time for one batch',Parameters[3] ,'s')\n",
        "print('final conc = ', Parameters[4])\n",
        "print('total product= ', Max,' BPY')"
      ],
      "execution_count": 38,
      "outputs": [
        {
          "output_type": "stream",
          "text": [
            "membrane area =  795000 cm2\n",
            "batch feed =  1800000  g\n",
            "flow out of tank =  1500 g/s\n",
            "time for one batch 6564.656465646564 s\n",
            "final conc =  [0.00394992]\n",
            "total product=  60939.36639676434  BPY\n"
          ],
          "name": "stdout"
        }
      ]
    },
    {
      "cell_type": "code",
      "metadata": {
        "id": "Cx7fgElC8jHC",
        "colab_type": "code",
        "colab": {}
      },
      "source": [
        "def dCdt2(C_Et,t):\n",
        "    # Define flow rates\n",
        "    M_p1 = A * k_w * diff_P * (1 + C_Et * (1-R)) \n",
        "    M_r1 = M_f - M_p1\n",
        "    if (M_r1 < 0):\n",
        "      return 0\n",
        "    C_r1 = (M_f * C_Et - M_p1 * (1-R) * C_Et) / M_r1\n",
        "    M_p2 = A * k_w * diff_P * (1 + C_r1 * (1-R))\n",
        "    M_r2 = (1-X) * M_r1 - M_p2\n",
        "    if (M_r2 < 0):\n",
        "      return 0\n",
        "    C_r2 = ((1-X)*M_r1*C_r1 - M_p2 * (1-R) * C_r1) / M_r2\n",
        "    dCdt = (M_r1 * X * C_r1 + M_r2 * C_r2 - M_f * C_Et) / m_0\n",
        "    M_water = M_p1 + M_p2\n",
        "    return dCdt"
      ],
      "execution_count": 0,
      "outputs": []
    }
  ]
}