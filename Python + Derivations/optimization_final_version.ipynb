{
  "nbformat": 4,
  "nbformat_minor": 0,
  "metadata": {
    "colab": {
      "name": "optimization - final version",
      "provenance": [],
      "collapsed_sections": [],
      "include_colab_link": true
    },
    "kernelspec": {
      "name": "python3",
      "display_name": "Python 3"
    }
  },
  "cells": [
    {
      "cell_type": "markdown",
      "metadata": {
        "id": "view-in-github",
        "colab_type": "text"
      },
      "source": [
        "<a href=\"https://colab.research.google.com/github/ssp22/485Design-Project/blob/master/optimization_final_version.ipynb\" target=\"_parent\"><img src=\"https://colab.research.google.com/assets/colab-badge.svg\" alt=\"Open In Colab\"/></a>"
      ]
    },
    {
      "cell_type": "code",
      "metadata": {
        "id": "vWBiVCUzn1-Y",
        "colab_type": "code",
        "colab": {}
      },
      "source": [
        "import numpy as np\n",
        "from scipy.integrate import odeint\n",
        "import matplotlib.pyplot as plt"
      ],
      "execution_count": 0,
      "outputs": []
    },
    {
      "cell_type": "code",
      "metadata": {
        "id": "eYL041d8l9O5",
        "colab_type": "code",
        "colab": {
          "base_uri": "https://localhost:8080/",
          "height": 119
        },
        "outputId": "4f7c9e14-3f84-4ecb-c7de-250c48bbe746"
      },
      "source": [
        "# Define parameters\n",
        "  dP = 40 # bar\n",
        "  dPi = 5.7 # bar\n",
        "  R = 0.1 # at 40 bar, 5C\n",
        "  k_w = 1.25 * 10 ** (-5) # g / (cm^2 s bar)\n",
        "  diff_P = dP - dPi\n",
        "  X = 0.05 # split ratio\n",
        "  C_Et0 = 0.0395 # weight percent\n",
        "  # M_f = 1000 # g / s # flow out of tank\n",
        "  t = np.linspace(0,10000,10000)\n",
        "  Product = 29.8 * 3968 * 6 * 10**4\n",
        "  Max = Product\n",
        "  A = 953000 # cm^2 # membrane area\n",
        "  Parameters = [1,2,3,4,5]\n",
        "\n",
        "for i in range(1,20):\n",
        "    X = i / 100\n",
        "    for j in range(1900000,2100000,1000):\n",
        "        m_0 = j # g # initial batch feed\n",
        "        for k in range(800,1500,100):\n",
        "          M_f = k\n",
        "          # solve ODE\n",
        "          C = odeint(dCdt2,C_Et0,t)\n",
        "          count = 0\n",
        "          val= 10\n",
        "          if (np.amin(C)<=0.00395):\n",
        "            while (val >= 0.00395):\n",
        "              val = C[count]\n",
        "              count += 1\n",
        "            # break\n",
        "          if (val <= 0.00395):\n",
        "            Total = 0.8*365*20*3600/t[count]*m_0\n",
        "          if (Total > Max):\n",
        "            Max = Total\n",
        "            Parameters[0] = X\n",
        "            Parameters[1] = m_0\n",
        "            Parameters[2] = M_f\n",
        "            Parameters[3] = t[count]\n",
        "            Parameters[4] = val\n",
        " \n",
        "\n",
        "print('split ratio = ', Parameters[0] )\n",
        "print('batch feed = ',Parameters[1],' g')\n",
        "print('flow out of tank = ',Parameters[2],'g/s')\n",
        "print('time for one batch',Parameters[3] ,'s')\n",
        "print('final conc = ', Parameters[4])\n",
        "print('total product= ', Max,' g')\n",
        "\n",
        "# optimization result:\n",
        "# split ratio =  0.01\n",
        "# batch feed =  2083000  g\n",
        "# flow out of tank =  900 g/s\n",
        "# time for one batch 6166.616661666166 s\n",
        "# final conc =  [0.00394997]\n",
        "# total product=  7101623856.762895  g"
      ],
      "execution_count": 27,
      "outputs": [
        {
          "output_type": "stream",
          "text": [
            "split ratio =  0.01\n",
            "batch feed =  2083000  g\n",
            "flow out of tank =  900 g/s\n",
            "time for one batch 6166.616661666166 s\n",
            "final conc =  [0.00394997]\n",
            "total product=  7101623856.762895  g\n"
          ],
          "name": "stdout"
        }
      ]
    },
    {
      "cell_type": "code",
      "metadata": {
        "id": "Cx7fgElC8jHC",
        "colab_type": "code",
        "colab": {}
      },
      "source": [
        "def dCdt2(C_Et,t):\n",
        "    # Define flow rates\n",
        "    M_p1 = A * k_w * diff_P * (1 + C_Et * (1-R)) \n",
        "    M_r1 = M_f - M_p1\n",
        "    if (M_r1 < 0):\n",
        "      return 0\n",
        "    C_r1 = (M_f * C_Et - M_p1 * (1-R) * C_Et) / M_r1\n",
        "    M_p2 = A * k_w * diff_P * (1 + C_r1 * (1-R))\n",
        "    M_r2 = (1-X) * M_r1 - M_p2\n",
        "    if (M_r2 < 0):\n",
        "      return 0\n",
        "    C_r2 = ((1-X)*M_r1*C_r1 - M_p2 * (1-R) * C_r1) / M_r2\n",
        "    dCdt = (M_r1 * X * C_r1 + M_r2 * C_r2 - M_f * C_Et) / m_0\n",
        "    M_water = M_p1 + M_p2\n",
        "    return dCdt"
      ],
      "execution_count": 0,
      "outputs": []
    }
  ]
}