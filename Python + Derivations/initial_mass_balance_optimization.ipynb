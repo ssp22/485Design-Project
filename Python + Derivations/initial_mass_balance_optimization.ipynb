{
  "nbformat": 4,
  "nbformat_minor": 0,
  "metadata": {
    "colab": {
      "name": "initial mass balance optimization",
      "provenance": [],
      "collapsed_sections": [],
      "include_colab_link": true
    },
    "kernelspec": {
      "name": "python3",
      "display_name": "Python 3"
    }
  },
  "cells": [
    {
      "cell_type": "markdown",
      "metadata": {
        "id": "view-in-github",
        "colab_type": "text"
      },
      "source": [
        "<a href=\"https://colab.research.google.com/github/ssp22/485Design-Project/blob/master/initial_mass_balance_optimization.ipynb\" target=\"_parent\"><img src=\"https://colab.research.google.com/assets/colab-badge.svg\" alt=\"Open In Colab\"/></a>"
      ]
    },
    {
      "cell_type": "code",
      "metadata": {
        "id": "vWBiVCUzn1-Y",
        "colab_type": "code",
        "colab": {}
      },
      "source": [
        "import numpy as np\n",
        "from scipy.integrate import odeint\n",
        "import matplotlib.pyplot as plt"
      ],
      "execution_count": 0,
      "outputs": []
    },
    {
      "cell_type": "code",
      "metadata": {
        "id": "eYL041d8l9O5",
        "colab_type": "code",
        "outputId": "cf829e39-54d1-4ff8-9918-2f96e139cf44",
        "colab": {
          "base_uri": "https://localhost:8080/",
          "height": 1000
        }
      },
      "source": [
        "# Define parameters\n",
        "for i in range(5000,10000,100):\n",
        "  print('membrane area = ', i , 'cm2')\n",
        "  dP = 40 # bar\n",
        "  dPi = 5.7 # bar\n",
        "  A = i # cm^2 # membrane area\n",
        "  R = 0.1 # at 40 bar, 5C\n",
        "  k_w = 8.75 * 10 ** (-6) # g / (cm^2 s bar)\n",
        "  diff_P = dP - dPi\n",
        "  X = 0.05 # split ratio\n",
        "  # J_P_ref = 3 * 10 ** (-4) # g / cm^2 s \n",
        "\n",
        "  # Initial conditions\n",
        "  m_0 = 10000 # g # initial batch feed\n",
        "  C_Et0 = 0.032 # weight percent\n",
        "  M_f = 100 # g / s # flow out of tank\n",
        "\n",
        "  t = np.linspace(0,10000)\n",
        "\n",
        "  # solve ODE\n",
        "  C = odeint(dCdt2,C_Et0,t)\n",
        "\n",
        "  count = 0\n",
        "  val= 10\n",
        "\n",
        "  while(val>=0.005):\n",
        "    val = C[count]  \n",
        "    count+=1\n",
        "  print(val)\n",
        "  print(t[count])\n",
        "\n",
        "  \n",
        "\n",
        "  # plot results\n",
        "  #plt.plot(t,C)\n",
        "  #plt.xlabel('time')\n",
        "  #plt.ylabel('C(t)')\n",
        "  #plt.show()\n",
        "\n"
      ],
      "execution_count": 43,
      "outputs": [
        {
          "output_type": "stream",
          "text": [
            "membrane area =  5000 cm2\n",
            "[0.00478711]\n",
            "7142.857142857143\n",
            "membrane area =  5100 cm2\n",
            "[0.004878]\n",
            "6938.775510204082\n",
            "membrane area =  5200 cm2\n",
            "[0.00498166]\n",
            "6734.693877551021\n",
            "membrane area =  5300 cm2\n",
            "[0.00480794]\n",
            "6734.693877551021\n",
            "membrane area =  5400 cm2\n",
            "[0.00492646]\n",
            "6530.6122448979595\n",
            "membrane area =  5500 cm2\n",
            "[0.00475995]\n",
            "6530.6122448979595\n",
            "membrane area =  5600 cm2\n",
            "[0.00489352]\n",
            "6326.530612244898\n",
            "membrane area =  5700 cm2\n",
            "[0.00473336]\n",
            "6326.530612244898\n",
            "membrane area =  5800 cm2\n",
            "[0.0048824]\n",
            "6122.448979591837\n",
            "membrane area =  5900 cm2\n",
            "[0.00472783]\n",
            "6122.448979591837\n",
            "membrane area =  6000 cm2\n",
            "[0.00489294]\n",
            "5918.367346938776\n",
            "membrane area =  6100 cm2\n",
            "[0.00474329]\n",
            "5918.367346938776\n",
            "membrane area =  6200 cm2\n",
            "[0.0049253]\n",
            "5714.285714285715\n",
            "membrane area =  6300 cm2\n",
            "[0.00477994]\n",
            "5714.285714285715\n",
            "membrane area =  6400 cm2\n",
            "[0.0049799]\n",
            "5510.2040816326535\n",
            "membrane area =  6500 cm2\n",
            "[0.00483829]\n",
            "5510.2040816326535\n",
            "membrane area =  6600 cm2\n",
            "[0.00470071]\n",
            "5510.2040816326535\n",
            "membrane area =  6700 cm2\n",
            "[0.00491911]\n",
            "5306.122448979592\n",
            "membrane area =  6800 cm2\n",
            "[0.00478452]\n",
            "5306.122448979592\n",
            "membrane area =  6900 cm2\n",
            "[0.00465363]\n",
            "5306.122448979592\n",
            "membrane area =  7000 cm2\n",
            "[0.00489148]\n",
            "5102.040816326531\n",
            "membrane area =  7100 cm2\n",
            "[0.00476292]\n",
            "5102.040816326531\n",
            "membrane area =  7200 cm2\n",
            "[0.00463775]\n",
            "5102.040816326531\n",
            "membrane area =  7300 cm2\n",
            "[0.00489647]\n",
            "4897.95918367347\n",
            "membrane area =  7400 cm2\n",
            "[0.00477306]\n",
            "4897.95918367347\n",
            "membrane area =  7500 cm2\n",
            "[0.00465277]\n",
            "4897.95918367347\n",
            "membrane area =  7600 cm2\n",
            "[0.00493417]\n",
            "4693.877551020409\n",
            "membrane area =  7700 cm2\n",
            "[0.00481514]\n",
            "4693.877551020409\n",
            "membrane area =  7800 cm2\n",
            "[0.00469898]\n",
            "4693.877551020409\n",
            "membrane area =  7900 cm2\n",
            "[0.00458564]\n",
            "4693.877551020409\n",
            "membrane area =  8000 cm2\n",
            "[0.00489002]\n",
            "4489.795918367347\n",
            "membrane area =  8100 cm2\n",
            "[0.00477734]\n",
            "4489.795918367347\n",
            "membrane area =  8200 cm2\n",
            "[0.00466726]\n",
            "4489.795918367347\n",
            "membrane area =  8300 cm2\n",
            "[0.00499922]\n",
            "4285.714285714286\n",
            "membrane area =  8400 cm2\n",
            "[0.00488943]\n",
            "4285.714285714286\n",
            "membrane area =  8500 cm2\n",
            "[0.00478205]\n",
            "4285.714285714286\n",
            "membrane area =  8600 cm2\n",
            "[0.00467704]\n",
            "4285.714285714286\n",
            "membrane area =  8700 cm2\n",
            "[0.00457434]\n",
            "4285.714285714286\n",
            "membrane area =  8800 cm2\n",
            "[0.0049324]\n",
            "4081.6326530612246\n",
            "membrane area =  8900 cm2\n",
            "[0.00482942]\n",
            "4081.6326530612246\n",
            "membrane area =  9000 cm2\n",
            "[0.0047286]\n",
            "4081.6326530612246\n",
            "membrane area =  9100 cm2\n",
            "[0.00462989]\n",
            "4081.6326530612246\n",
            "membrane area =  9200 cm2\n",
            "[0.00453324]\n",
            "4081.6326530612246\n",
            "membrane area =  9300 cm2\n",
            "[0.00492073]\n",
            "3877.5510204081634\n",
            "membrane area =  9400 cm2\n",
            "[0.00482333]\n",
            "3877.5510204081634\n",
            "membrane area =  9500 cm2\n",
            "[0.00472787]\n",
            "3877.5510204081634\n",
            "membrane area =  9600 cm2\n",
            "[0.0046343]\n",
            "3877.5510204081634\n",
            "membrane area =  9700 cm2\n",
            "[0.00454259]\n",
            "3877.5510204081634\n",
            "membrane area =  9800 cm2\n",
            "[0.00496383]\n",
            "3673.469387755102\n",
            "membrane area =  9900 cm2\n",
            "[0.00487097]\n",
            "3673.469387755102\n"
          ],
          "name": "stdout"
        }
      ]
    },
    {
      "cell_type": "code",
      "metadata": {
        "id": "Cx7fgElC8jHC",
        "colab_type": "code",
        "colab": {}
      },
      "source": [
        "def dCdt2(C_Et,t):\n",
        "    # Define flow rates\n",
        "    M_p1 = A * k_w * diff_P * (1 + C_Et * (1-R)) # \n",
        "    # M_p1 = A * J_P_ref\n",
        "    M_r1 = M_f - M_p1\n",
        "    C_r1 = (M_f * C_Et - M_p1 * (1-R) * C_Et) / M_r1\n",
        "    M_p2 = A * k_w * diff_P * (1 + C_r1 * (1-R))\n",
        "    # M_p2 = A * J_P_ref\n",
        "    M_r2 = (1-X) * M_r1 - M_p2\n",
        "    C_r2 = ((1-X)*M_r1*C_r1 - M_p2 * (1-R) * C_r1) / M_r2\n",
        "    dCdt = (M_r1 * X * C_r1 + M_r2 * C_r2 - M_f * C_Et) / m_0\n",
        "    M_water = M_p1 + M_p2\n",
        "    #print(M_r1,M_r2,M_water)\n",
        "    return dCdt"
      ],
      "execution_count": 0,
      "outputs": []
    },
    {
      "cell_type": "code",
      "metadata": {
        "id": "uWF_0iq18nyo",
        "colab_type": "code",
        "colab": {
          "base_uri": "https://localhost:8080/",
          "height": 34
        },
        "outputId": "d176d6be-5fee-4f9b-f731-7c6938f9477f"
      },
      "source": [
        "q = np.arange(0,10,0.01)\n"
      ],
      "execution_count": 34,
      "outputs": [
        {
          "output_type": "stream",
          "text": [
            "(array([51]),)\n"
          ],
          "name": "stdout"
        }
      ]
    },
    {
      "cell_type": "code",
      "metadata": {
        "id": "L2BAMba6Gs-h",
        "colab_type": "code",
        "colab": {}
      },
      "source": [
        ""
      ],
      "execution_count": 0,
      "outputs": []
    }
  ]
}