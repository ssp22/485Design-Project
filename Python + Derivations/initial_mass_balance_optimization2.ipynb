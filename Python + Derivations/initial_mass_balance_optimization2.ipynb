{
  "nbformat": 4,
  "nbformat_minor": 0,
  "metadata": {
    "colab": {
      "name": "initial mass balance optimization",
      "provenance": [],
      "collapsed_sections": [],
      "include_colab_link": true
    },
    "kernelspec": {
      "name": "python3",
      "display_name": "Python 3"
    }
  },
  "cells": [
    {
      "cell_type": "markdown",
      "metadata": {
        "id": "view-in-github",
        "colab_type": "text"
      },
      "source": [
        "<a href=\"https://colab.research.google.com/github/ssp22/485Design-Project/blob/master/initial_mass_balance_optimization2.ipynb\" target=\"_parent\"><img src=\"https://colab.research.google.com/assets/colab-badge.svg\" alt=\"Open In Colab\"/></a>"
      ]
    },
    {
      "cell_type": "code",
      "metadata": {
        "id": "vWBiVCUzn1-Y",
        "colab_type": "code",
        "colab": {}
      },
      "source": [
        "import numpy as np\n",
        "from scipy.integrate import odeint\n",
        "import matplotlib.pyplot as plt"
      ],
      "execution_count": 0,
      "outputs": []
    },
    {
      "cell_type": "code",
      "metadata": {
        "id": "eYL041d8l9O5",
        "colab_type": "code",
        "colab": {
          "base_uri": "https://localhost:8080/",
          "height": 787
        },
        "outputId": "be78b383-e12b-49b8-8ef7-9d7babc6cf3e"
      },
      "source": [
        "# Define parameters\n",
        "  dP = 40 # bar\n",
        "  dPi = 5.7 # bar\n",
        "  R = 0.1 # at 40 bar, 5C\n",
        "  k_w = 8.75 * 10 ** (-6) # g / (cm^2 s bar)\n",
        "  diff_P = dP - dPi\n",
        "  X = 0.05 # split ratio\n",
        "  # J_P_ref = 3 * 10 ** (-4) # g / cm^2 s \n",
        "  C_Et0 = 0.0395 # weight percent\n",
        "  # M_f = 14000 # g / s # flow out of tank\n",
        "  t = np.linspace(0,50000,100)\n",
        "  Product = 29.8 * 3968 * 6 * 10**4\n",
        "\n",
        "for i in range(915000,9160000,100):\n",
        "    A = i # cm^2 # membrane area\n",
        "    for j in range(1500000,2500000,50000):\n",
        "        m_0 = j # g # initial batch feed\n",
        "        for k in range(100,5000,100):\n",
        "          M_f = k\n",
        "          # solve ODE\n",
        "          C = odeint(dCdt2,C_Et0,t)\n",
        "          count = 0\n",
        "          val= 10\n",
        "          if (np.amin(C)<=0.00395):\n",
        "            while (val >= 0.00395):\n",
        "              val = C[count]\n",
        "              count += 1\n",
        "            # break\n",
        "          if (val <= 0.00395):\n",
        "            Total = 0.8*365*20*3600/t[count]*m_0\n",
        "            if (Total >= Product and val <= 0.00395):\n",
        "              print('A = ', i , ' cm^2')\n",
        "              print('batch feed = ',m_0,' g')\n",
        "              print('flow out of tank = ',M_f,'g')\n",
        "              print('time for one batch',t[count] ,'s')\n",
        "              print('final conc = ', val)\n",
        "              print('total product= ', Total,' g')\n",
        "\n",
        "# optimization result:\n",
        "# A =  915700  cm^2\n",
        "# batch feed =  2400000  g\n",
        "# time for one batch 7070.707070707071 s\n",
        "# final conc =  [0.0039463]\n",
        "# total product=  7136146285.714286  g"
      ],
      "execution_count": 18,
      "outputs": [
        {
          "output_type": "stream",
          "text": [
            "A =  915700  cm^2\n",
            "batch feed =  2400000  g\n",
            "flow out of tank =  300 g\n",
            "time for one batch 7070.707070707071 s\n",
            "final conc =  [0.0039463]\n",
            "total product=  7136146285.714286  g\n",
            "A =  915800  cm^2\n",
            "batch feed =  2400000  g\n",
            "flow out of tank =  300 g\n",
            "time for one batch 7070.707070707071 s\n",
            "final conc =  [0.00393998]\n",
            "total product=  7136146285.714286  g\n",
            "A =  915900  cm^2\n",
            "batch feed =  2400000  g\n",
            "flow out of tank =  300 g\n",
            "time for one batch 7070.707070707071 s\n",
            "final conc =  [0.00393365]\n",
            "total product=  7136146285.714286  g\n",
            "A =  916000  cm^2\n",
            "batch feed =  2400000  g\n",
            "flow out of tank =  300 g\n",
            "time for one batch 7070.707070707071 s\n",
            "final conc =  [0.00392732]\n",
            "total product=  7136146285.714286  g\n"
          ],
          "name": "stdout"
        },
        {
          "output_type": "error",
          "ename": "KeyboardInterrupt",
          "evalue": "ignored",
          "traceback": [
            "\u001b[0;31m---------------------------------------------------------------------------\u001b[0m",
            "\u001b[0;31mKeyboardInterrupt\u001b[0m                         Traceback (most recent call last)",
            "\u001b[0;32m<ipython-input-18-fa2628f6b72b>\u001b[0m in \u001b[0;36m<module>\u001b[0;34m()\u001b[0m\n\u001b[1;32m     18\u001b[0m         \u001b[0mM_f\u001b[0m \u001b[0;34m=\u001b[0m \u001b[0mk\u001b[0m\u001b[0;34m\u001b[0m\u001b[0;34m\u001b[0m\u001b[0m\n\u001b[1;32m     19\u001b[0m         \u001b[0;31m# solve ODE\u001b[0m\u001b[0;34m\u001b[0m\u001b[0;34m\u001b[0m\u001b[0;34m\u001b[0m\u001b[0m\n\u001b[0;32m---> 20\u001b[0;31m         \u001b[0mC\u001b[0m \u001b[0;34m=\u001b[0m \u001b[0modeint\u001b[0m\u001b[0;34m(\u001b[0m\u001b[0mdCdt2\u001b[0m\u001b[0;34m,\u001b[0m\u001b[0mC_Et0\u001b[0m\u001b[0;34m,\u001b[0m\u001b[0mt\u001b[0m\u001b[0;34m)\u001b[0m\u001b[0;34m\u001b[0m\u001b[0;34m\u001b[0m\u001b[0m\n\u001b[0m\u001b[1;32m     21\u001b[0m         \u001b[0mcount\u001b[0m \u001b[0;34m=\u001b[0m \u001b[0;36m0\u001b[0m\u001b[0;34m\u001b[0m\u001b[0;34m\u001b[0m\u001b[0m\n\u001b[1;32m     22\u001b[0m         \u001b[0mval\u001b[0m\u001b[0;34m=\u001b[0m \u001b[0;36m10\u001b[0m\u001b[0;34m\u001b[0m\u001b[0;34m\u001b[0m\u001b[0m\n",
            "\u001b[0;32m/usr/local/lib/python3.6/dist-packages/scipy/integrate/odepack.py\u001b[0m in \u001b[0;36modeint\u001b[0;34m(func, y0, t, args, Dfun, col_deriv, full_output, ml, mu, rtol, atol, tcrit, h0, hmax, hmin, ixpr, mxstep, mxhnil, mxordn, mxords, printmessg, tfirst)\u001b[0m\n\u001b[1;32m    243\u001b[0m                              \u001b[0mfull_output\u001b[0m\u001b[0;34m,\u001b[0m \u001b[0mrtol\u001b[0m\u001b[0;34m,\u001b[0m \u001b[0matol\u001b[0m\u001b[0;34m,\u001b[0m \u001b[0mtcrit\u001b[0m\u001b[0;34m,\u001b[0m \u001b[0mh0\u001b[0m\u001b[0;34m,\u001b[0m \u001b[0mhmax\u001b[0m\u001b[0;34m,\u001b[0m \u001b[0mhmin\u001b[0m\u001b[0;34m,\u001b[0m\u001b[0;34m\u001b[0m\u001b[0;34m\u001b[0m\u001b[0m\n\u001b[1;32m    244\u001b[0m                              \u001b[0mixpr\u001b[0m\u001b[0;34m,\u001b[0m \u001b[0mmxstep\u001b[0m\u001b[0;34m,\u001b[0m \u001b[0mmxhnil\u001b[0m\u001b[0;34m,\u001b[0m \u001b[0mmxordn\u001b[0m\u001b[0;34m,\u001b[0m \u001b[0mmxords\u001b[0m\u001b[0;34m,\u001b[0m\u001b[0;34m\u001b[0m\u001b[0;34m\u001b[0m\u001b[0m\n\u001b[0;32m--> 245\u001b[0;31m                              int(bool(tfirst)))\n\u001b[0m\u001b[1;32m    246\u001b[0m     \u001b[0;32mif\u001b[0m \u001b[0moutput\u001b[0m\u001b[0;34m[\u001b[0m\u001b[0;34m-\u001b[0m\u001b[0;36m1\u001b[0m\u001b[0;34m]\u001b[0m \u001b[0;34m<\u001b[0m \u001b[0;36m0\u001b[0m\u001b[0;34m:\u001b[0m\u001b[0;34m\u001b[0m\u001b[0;34m\u001b[0m\u001b[0m\n\u001b[1;32m    247\u001b[0m         \u001b[0mwarning_msg\u001b[0m \u001b[0;34m=\u001b[0m \u001b[0m_msgs\u001b[0m\u001b[0;34m[\u001b[0m\u001b[0moutput\u001b[0m\u001b[0;34m[\u001b[0m\u001b[0;34m-\u001b[0m\u001b[0;36m1\u001b[0m\u001b[0;34m]\u001b[0m\u001b[0;34m]\u001b[0m \u001b[0;34m+\u001b[0m \u001b[0;34m\" Run with full_output = 1 to get quantitative information.\"\u001b[0m\u001b[0;34m\u001b[0m\u001b[0;34m\u001b[0m\u001b[0m\n",
            "\u001b[0;32m<ipython-input-4-524fcd2337cb>\u001b[0m in \u001b[0;36mdCdt2\u001b[0;34m(C_Et, t)\u001b[0m\n\u001b[1;32m      4\u001b[0m     \u001b[0mM_r1\u001b[0m \u001b[0;34m=\u001b[0m \u001b[0mM_f\u001b[0m \u001b[0;34m-\u001b[0m \u001b[0mM_p1\u001b[0m\u001b[0;34m\u001b[0m\u001b[0;34m\u001b[0m\u001b[0m\n\u001b[1;32m      5\u001b[0m     \u001b[0mC_r1\u001b[0m \u001b[0;34m=\u001b[0m \u001b[0;34m(\u001b[0m\u001b[0mM_f\u001b[0m \u001b[0;34m*\u001b[0m \u001b[0mC_Et\u001b[0m \u001b[0;34m-\u001b[0m \u001b[0mM_p1\u001b[0m \u001b[0;34m*\u001b[0m \u001b[0;34m(\u001b[0m\u001b[0;36m1\u001b[0m\u001b[0;34m-\u001b[0m\u001b[0mR\u001b[0m\u001b[0;34m)\u001b[0m \u001b[0;34m*\u001b[0m \u001b[0mC_Et\u001b[0m\u001b[0;34m)\u001b[0m \u001b[0;34m/\u001b[0m \u001b[0mM_r1\u001b[0m\u001b[0;34m\u001b[0m\u001b[0;34m\u001b[0m\u001b[0m\n\u001b[0;32m----> 6\u001b[0;31m     \u001b[0mM_p2\u001b[0m \u001b[0;34m=\u001b[0m \u001b[0mA\u001b[0m \u001b[0;34m*\u001b[0m \u001b[0mk_w\u001b[0m \u001b[0;34m*\u001b[0m \u001b[0mdiff_P\u001b[0m \u001b[0;34m*\u001b[0m \u001b[0;34m(\u001b[0m\u001b[0;36m1\u001b[0m \u001b[0;34m+\u001b[0m \u001b[0mC_r1\u001b[0m \u001b[0;34m*\u001b[0m \u001b[0;34m(\u001b[0m\u001b[0;36m1\u001b[0m\u001b[0;34m-\u001b[0m\u001b[0mR\u001b[0m\u001b[0;34m)\u001b[0m\u001b[0;34m)\u001b[0m\u001b[0;34m\u001b[0m\u001b[0;34m\u001b[0m\u001b[0m\n\u001b[0m\u001b[1;32m      7\u001b[0m     \u001b[0mM_r2\u001b[0m \u001b[0;34m=\u001b[0m \u001b[0;34m(\u001b[0m\u001b[0;36m1\u001b[0m\u001b[0;34m-\u001b[0m\u001b[0mX\u001b[0m\u001b[0;34m)\u001b[0m \u001b[0;34m*\u001b[0m \u001b[0mM_r1\u001b[0m \u001b[0;34m-\u001b[0m \u001b[0mM_p2\u001b[0m\u001b[0;34m\u001b[0m\u001b[0;34m\u001b[0m\u001b[0m\n\u001b[1;32m      8\u001b[0m     \u001b[0mC_r2\u001b[0m \u001b[0;34m=\u001b[0m \u001b[0;34m(\u001b[0m\u001b[0;34m(\u001b[0m\u001b[0;36m1\u001b[0m\u001b[0;34m-\u001b[0m\u001b[0mX\u001b[0m\u001b[0;34m)\u001b[0m\u001b[0;34m*\u001b[0m\u001b[0mM_r1\u001b[0m\u001b[0;34m*\u001b[0m\u001b[0mC_r1\u001b[0m \u001b[0;34m-\u001b[0m \u001b[0mM_p2\u001b[0m \u001b[0;34m*\u001b[0m \u001b[0;34m(\u001b[0m\u001b[0;36m1\u001b[0m\u001b[0;34m-\u001b[0m\u001b[0mR\u001b[0m\u001b[0;34m)\u001b[0m \u001b[0;34m*\u001b[0m \u001b[0mC_r1\u001b[0m\u001b[0;34m)\u001b[0m \u001b[0;34m/\u001b[0m \u001b[0mM_r2\u001b[0m\u001b[0;34m\u001b[0m\u001b[0;34m\u001b[0m\u001b[0m\n",
            "\u001b[0;31mKeyboardInterrupt\u001b[0m: "
          ]
        }
      ]
    },
    {
      "cell_type": "code",
      "metadata": {
        "id": "Cx7fgElC8jHC",
        "colab_type": "code",
        "colab": {}
      },
      "source": [
        "def dCdt2(C_Et,t):\n",
        "    # Define flow rates\n",
        "    M_p1 = A * k_w * diff_P * (1 + C_Et * (1-R)) \n",
        "    M_r1 = M_f - M_p1\n",
        "    C_r1 = (M_f * C_Et - M_p1 * (1-R) * C_Et) / M_r1\n",
        "    M_p2 = A * k_w * diff_P * (1 + C_r1 * (1-R))\n",
        "    M_r2 = (1-X) * M_r1 - M_p2\n",
        "    C_r2 = ((1-X)*M_r1*C_r1 - M_p2 * (1-R) * C_r1) / M_r2\n",
        "    dCdt = (M_r1 * X * C_r1 + M_r2 * C_r2 - M_f * C_Et) / m_0\n",
        "    M_water = M_p1 + M_p2\n",
        "    return dCdt"
      ],
      "execution_count": 0,
      "outputs": []
    }
  ]
}