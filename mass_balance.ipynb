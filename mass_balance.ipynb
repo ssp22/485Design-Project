{
  "nbformat": 4,
  "nbformat_minor": 0,
  "metadata": {
    "colab": {
      "name": "mass balance.ipynb",
      "provenance": [],
      "include_colab_link": true
    },
    "kernelspec": {
      "name": "python3",
      "display_name": "Python 3"
    }
  },
  "cells": [
    {
      "cell_type": "markdown",
      "metadata": {
        "id": "view-in-github",
        "colab_type": "text"
      },
      "source": [
        "<a href=\"https://colab.research.google.com/github/ssp22/485Design-Project/blob/master/mass_balance.ipynb\" target=\"_parent\"><img src=\"https://colab.research.google.com/assets/colab-badge.svg\" alt=\"Open In Colab\"/></a>"
      ]
    },
    {
      "cell_type": "code",
      "metadata": {
        "id": "vWBiVCUzn1-Y",
        "colab_type": "code",
        "colab": {}
      },
      "source": [
        "import numpy as np\n",
        "from scipy.integrate import odeint\n",
        "import matplotlib.pyplot as plt"
      ],
      "execution_count": 0,
      "outputs": []
    },
    {
      "cell_type": "code",
      "metadata": {
        "id": "eYL041d8l9O5",
        "colab_type": "code",
        "outputId": "c2c113e0-5406-4e53-ad81-aa852d1103b8",
        "colab": {
          "base_uri": "https://localhost:8080/",
          "height": 1000
        }
      },
      "source": [
        "# Define parameters\n",
        "dP = 40 # bar\n",
        "dPi = 5.7 # bar\n",
        "A = 1540000 # cm^2 # membrane area\n",
        "R = 0.1 # at 40 bar, 5C\n",
        "k_w = 8.75 * 10 ** (-6) # g / (cm^2 s bar)\n",
        "diff_P = dP - dPi\n",
        "X = 0.05 # split ratio\n",
        "# J_P_ref = 3 * 10 ** (-4) # g / cm^2 s \n",
        "\n",
        "# Initial conditions\n",
        "m_0 = 2400000 # g # initial batch feed\n",
        "C_Et0 = 0.0395 # weight percent\n",
        "M_f = 14000 # g / s # flow out of tank\n",
        "\n",
        "\n",
        "def dCdt2(C_Et,t):\n",
        "    # Define flow rates\n",
        "    M_p1 = A * k_w * diff_P * (1 + C_Et * (1-R)) # \n",
        "    # M_p1 = A * J_P_ref\n",
        "    M_r1 = M_f - M_p1\n",
        "    C_r1 = (M_f * C_Et - M_p1 * (1-R) * C_Et) / M_r1\n",
        "    M_p2 = A * k_w * diff_P * (1 + C_r1 * (1-R))\n",
        "    # M_p2 = A * J_P_ref\n",
        "    M_r2 = (1-X) * M_r1 - M_p2\n",
        "    C_r2 = ((1-X)*M_r1*C_r1 - M_p2 * (1-R) * C_r1) / M_r2\n",
        "    dCdt = (M_r1 * X * C_r1 + M_r2 * C_r2 - M_f * C_Et) / m_0\n",
        "    M_water = M_p1 + M_p2\n",
        "    print(M_r1,M_r2,M_water)\n",
        "    return dCdt\n",
        "\n",
        "t = np.linspace(0,10000)\n",
        "\n",
        "# solve ODE\n",
        "C = odeint(dCdt2,C_Et0,t)\n",
        "print(C)\n",
        "\n",
        "\n",
        "\n",
        "# plot results\n",
        "plt.plot(t,C)\n",
        "plt.xlabel('Time [s]')\n",
        "plt.ylabel('Ethanol content (mass fraction)')\n",
        "plt.show()\n",
        "\n"
      ],
      "execution_count": 5,
      "outputs": [
        {
          "output_type": "stream",
          "text": [
            "[13521.37655663] [12366.62612392] [957.30504824]\n",
            "[13521.37670383] [12366.62641152] [957.30475329]\n",
            "[13521.37670383] [12366.62641151] [957.3047533]\n",
            "[13521.37685103] [12366.6266991] [957.30445835]\n",
            "[13521.37685103] [12366.6266991] [957.30445835]\n",
            "[13521.56372025] [12366.99177878] [956.93003521]\n",
            "[13521.56372725] [12366.99179246] [956.93002118]\n",
            "[13521.74839253] [12367.35256586] [956.56001451]\n",
            "[13521.74840643] [12367.35259302] [956.55998666]\n",
            "[13521.93090226] [12367.70912756] [956.19432733]\n",
            "[13521.93091597] [12367.70915434] [956.19429986]\n",
            "[13522.50115905] [12368.82321127] [955.05173078]\n",
            "[13522.50121264] [12368.82331596] [955.05162341]\n",
            "[13523.0504727] [12369.89637465] [953.95110171]\n",
            "[13523.05039756] [12369.89622785] [953.95125227]\n",
            "[13522.94473057] [12369.68979252] [954.16297095]\n",
            "[13522.94468738] [12369.68970815] [954.16305748]\n",
            "[13523.3749267] [12370.53024013] [953.30101354]\n",
            "[13523.37492445] [12370.53023574] [953.30101803]\n",
            "[13523.79234581] [12371.34572336] [952.46465935]\n",
            "[13523.79233962] [12371.34571127] [952.46467175]\n",
            "[13524.19734249] [12372.13693516] [951.65319771]\n",
            "[13524.19733652] [12372.1369235] [951.65320968]\n",
            "[13524.97164627] [12373.64962774] [950.10178995]\n",
            "[13524.97161946] [12373.64957536] [950.10184366]\n",
            "[13525.70071108] [12375.07393231] [948.64103213]\n",
            "[13525.70073167] [12375.07397254] [948.64099088]\n",
            "[13526.38740608] [12376.41545556] [947.26517413]\n",
            "[13526.38742668] [12376.41549581] [947.26513286]\n",
            "[13527.03427901] [12377.67917607] [945.96910998]\n",
            "[13527.03428424] [12377.67918628] [945.96909951]\n",
            "[13527.64370862] [12378.86974203] [944.74807254]\n",
            "[13527.64371361] [12378.86975179] [944.74806253]\n",
            "[13528.78560772] [12381.10051134] [942.46020827]\n",
            "[13528.78564672] [12381.10058754] [942.46013013]\n",
            "[13529.79707802] [12383.07646341] [940.43368269]\n",
            "[13529.79708557] [12383.07647816] [940.43366756]\n",
            "[13530.69350727] [12384.82766458] [938.63766006]\n",
            "[13530.69341515] [12384.82748462] [938.63784462]\n",
            "[13531.48812758] [12386.37996869] [937.04562493]\n",
            "[13531.48810335] [12386.37992135] [937.04567348]\n",
            "[13532.19296716] [12387.75687655] [935.63347509]\n",
            "[13532.19295194] [12387.75684682] [935.63350558]\n",
            "[13532.81835744] [12388.97857342] [934.38050871]\n",
            "[13532.8183434] [12388.97854601] [934.38053682]\n",
            "[13533.59748527] [12390.50058748] [932.81953826]\n",
            "[13533.5974532] [12390.50052484] [932.8196025]\n",
            "[13534.25399542] [12391.78306261] [931.50423762]\n",
            "[13534.25397515] [12391.78302301] [931.50427823]\n",
            "[13534.80737446] [12392.86406873] [930.39556255]\n",
            "[13534.8074605] [12392.86423682] [930.39539015]\n",
            "[13535.27422191] [12393.77603486] [929.46025404]\n",
            "[13535.27425794] [12393.77610524] [929.46018186]\n",
            "[13535.66807907] [12394.54541504] [928.67118101]\n",
            "[13535.6680891] [12394.54543464] [928.6711609]\n",
            "[13536.00044314] [12395.19466972] [928.00530812]\n",
            "[13536.00045508] [12395.19469304] [928.00528421]\n",
            "[13536.28101303] [12395.74274605] [927.4432033]\n",
            "[13536.28101594] [12395.74275172] [927.44319748]\n",
            "[13536.61416882] [12396.39354418] [926.77574738]\n",
            "[13536.61418994] [12396.39358544] [926.77570506]\n",
            "[13536.87443631] [12396.9019586] [926.25431959]\n",
            "[13536.87449922] [12396.90208148] [926.25419356]\n",
            "[13537.07788967] [12397.29938984] [925.84671568]\n",
            "[13537.07793078] [12397.29947014] [925.84663332]\n",
            "[13537.23692048] [12397.61004445] [925.52810953]\n",
            "[13537.23695207] [12397.61010614] [925.52804625]\n",
            "[13537.36125199] [12397.85291634] [925.27902106]\n",
            "[13537.3612784] [12397.85296792] [925.27896816]\n",
            "[[0.0395    ]\n",
            " [0.03670815]\n",
            " [0.03411948]\n",
            " [0.03171844]\n",
            " [0.02949071]\n",
            " [0.02742323]\n",
            " [0.02550393]\n",
            " [0.02372178]\n",
            " [0.02206658]\n",
            " [0.02052897]\n",
            " [0.01910033]\n",
            " [0.01777267]\n",
            " [0.01653864]\n",
            " [0.01539148]\n",
            " [0.01432489]\n",
            " [0.0133331 ]\n",
            " [0.01241073]\n",
            " [0.01155283]\n",
            " [0.01075481]\n",
            " [0.0100124 ]\n",
            " [0.00932166]\n",
            " [0.00867895]\n",
            " [0.00808087]\n",
            " [0.00752428]\n",
            " [0.00700627]\n",
            " [0.00652414]\n",
            " [0.00607536]\n",
            " [0.00565761]\n",
            " [0.00526872]\n",
            " [0.00490668]\n",
            " [0.00456962]\n",
            " [0.0042558 ]\n",
            " [0.00396361]\n",
            " [0.00369155]\n",
            " [0.00343822]\n",
            " [0.00320232]\n",
            " [0.00298265]\n",
            " [0.00277809]\n",
            " [0.00258759]\n",
            " [0.00241018]\n",
            " [0.00224496]\n",
            " [0.00209109]\n",
            " [0.00194778]\n",
            " [0.00181431]\n",
            " [0.00169   ]\n",
            " [0.00157422]\n",
            " [0.00146638]\n",
            " [0.00136594]\n",
            " [0.00127239]\n",
            " [0.00118525]]\n"
          ],
          "name": "stdout"
        },
        {
          "output_type": "display_data",
          "data": {
            "image/png": "[encoded data removed]",
            "text/plain": [
              "<Figure size 432x288 with 1 Axes>"
            ]
          },
          "metadata": {
            "tags": []
          }
        }
      ]
    },
    {
      "cell_type": "code",
      "metadata": {
        "id": "WESEOA8s7g_O",
        "colab_type": "code",
        "colab": {}
      },
      "source": [
        "a = 40"
      ],
      "execution_count": 0,
      "outputs": []
    },
    {
      "cell_type": "code",
      "metadata": {
        "id": "gWmBYpKD7hsE",
        "colab_type": "code",
        "colab": {}
      },
      "source": [
        ""
      ],
      "execution_count": 0,
      "outputs": []
    }
  ]
}