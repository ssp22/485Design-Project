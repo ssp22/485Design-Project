{
  "nbformat": 4,
  "nbformat_minor": 0,
  "metadata": {
    "colab": {
      "name": "mass balance.ipynb",
      "provenance": [],
      "include_colab_link": true
    },
    "kernelspec": {
      "name": "python3",
      "display_name": "Python 3"
    }
  },
  "cells": [
    {
      "cell_type": "markdown",
      "metadata": {
        "id": "view-in-github",
        "colab_type": "text"
      },
      "source": [
        "<a href=\"https://colab.research.google.com/github/ssp22/485Design-Project/blob/master/mass_balance.ipynb\" target=\"_parent\"><img src=\"https://colab.research.google.com/assets/colab-badge.svg\" alt=\"Open In Colab\"/></a>"
      ]
    },
    {
      "cell_type": "code",
      "metadata": {
        "id": "vWBiVCUzn1-Y",
        "colab_type": "code",
        "colab": {}
      },
      "source": [
        "import numpy as np\n",
        "from scipy.integrate import odeint\n",
        "import matplotlib.pyplot as plt"
      ],
      "execution_count": 0,
      "outputs": []
    },
    {
      "cell_type": "code",
      "metadata": {
        "id": "eYL041d8l9O5",
        "colab_type": "code",
        "outputId": "cef74b42-cfa6-4bfa-d9ef-2ffdf40383aa",
        "colab": {
          "base_uri": "https://localhost:8080/",
          "height": 1000
        }
      },
      "source": [
        "# Define parameters\n",
        "dP = 40 # bar\n",
        "dPi = 5.7 # bar\n",
        "A = 5000 # cm^2 # membrane area\n",
        "R = 0.1 # at 40 bar, 5C\n",
        "k_w = 8.75 * 10 ** (-6) # g / (cm^2 s bar)\n",
        "diff_P = dP - dPi\n",
        "X = 0.05 # split ratio\n",
        "# J_P_ref = 3 * 10 ** (-4) # g / cm^2 s \n",
        "\n",
        "# Initial conditions\n",
        "m_0 = 10000 # g # initial batch feed\n",
        "C_Et0 = 0.032 # weight percent\n",
        "M_f = 100 # g / s # flow out of tank\n",
        "\n",
        "\n",
        "def dCdt2(C_Et,t):\n",
        "    # Define flow rates\n",
        "    M_p1 = A * k_w * diff_P * (1 + C_Et * (1-R)) # \n",
        "    # M_p1 = A * J_P_ref\n",
        "    M_r1 = M_f - M_p1\n",
        "    C_r1 = (M_f * C_Et - M_p1 * (1-R) * C_Et) / M_r1\n",
        "    M_p2 = A * k_w * diff_P * (1 + C_r1 * (1-R))\n",
        "    # M_p2 = A * J_P_ref\n",
        "    M_r2 = (1-X) * M_r1 - M_p2\n",
        "    C_r2 = ((1-X)*M_r1*C_r1 - M_p2 * (1-R) * C_r1) / M_r2\n",
        "    dCdt = (M_r1 * X * C_r1 + M_r2 * C_r2 - M_f * C_Et) / m_0\n",
        "    M_water = M_p1 + M_p2\n",
        "    print(M_r1,M_r2,M_water)\n",
        "    return dCdt\n",
        "\n",
        "t = np.linspace(0,1000)\n",
        "\n",
        "# solve ODE\n",
        "C = odeint(dCdt2,C_Et0,t)\n",
        "print(C)\n",
        "\n",
        "\n",
        "\n",
        "# plot results\n",
        "plt.plot(t,C)\n",
        "plt.xlabel('time')\n",
        "plt.ylabel('C(t)')\n",
        "plt.show()\n",
        "\n"
      ],
      "execution_count": 0,
      "outputs": [
        {
          "output_type": "stream",
          "text": [
            "[98.456157] [91.98943838] [3.08775377]\n",
            "[98.45615703] [91.98943844] [3.08775371]\n",
            "[98.45615703] [91.98943844] [3.08775371]\n",
            "[98.45615706] [91.9894385] [3.08775365]\n",
            "[98.45615706] [91.9894385] [3.08775365]\n",
            "[98.45645543] [91.9900208] [3.08715643]\n",
            "[98.45645543] [91.99002081] [3.08715642]\n",
            "[98.45675168] [91.99059897] [3.08656344]\n",
            "[98.45675169] [91.99059899] [3.08656343]\n",
            "[98.45704584] [91.99117305] [3.08597466]\n",
            "[98.45704585] [91.99117306] [3.08597464]\n",
            "[98.45866285] [91.99432883] [3.08273803]\n",
            "[98.45866294] [91.994329] [3.08273785]\n",
            "[98.46021686] [91.99736164] [3.07962752]\n",
            "[98.4602167] [91.99736134] [3.07962783]\n",
            "[98.46170977] [92.00027521] [3.0766393]\n",
            "[98.46170972] [92.00027511] [3.0766394]\n",
            "[98.46314452] [92.00307526] [3.07376751]\n",
            "[98.46314447] [92.00307517] [3.07376761]\n",
            "[98.46571831] [92.00809827] [3.06861582]\n",
            "[98.46571813] [92.00809791] [3.06861618]\n",
            "[98.46810511] [92.01275632] [3.06383842]\n",
            "[98.46810526] [92.01275662] [3.06383812]\n",
            "[[0.032     ]\n",
            " [0.0318189 ]\n",
            " [0.03163886]\n",
            " [0.03145986]\n",
            " [0.0312819 ]\n",
            " [0.03110498]\n",
            " [0.03092909]\n",
            " [0.03075422]\n",
            " [0.03058036]\n",
            " [0.03040752]\n",
            " [0.03023567]\n",
            " [0.03006482]\n",
            " [0.02989496]\n",
            " [0.02972609]\n",
            " [0.02955819]\n",
            " [0.02939127]\n",
            " [0.02922532]\n",
            " [0.02906032]\n",
            " [0.02889628]\n",
            " [0.02873319]\n",
            " [0.02857104]\n",
            " [0.02840984]\n",
            " [0.02824956]\n",
            " [0.02809021]\n",
            " [0.02793178]\n",
            " [0.02777427]\n",
            " [0.02761766]\n",
            " [0.02746196]\n",
            " [0.02730716]\n",
            " [0.02715326]\n",
            " [0.02700024]\n",
            " [0.0268481 ]\n",
            " [0.02669684]\n",
            " [0.02654645]\n",
            " [0.02639693]\n",
            " [0.02624827]\n",
            " [0.02610047]\n",
            " [0.02595352]\n",
            " [0.02580741]\n",
            " [0.02566215]\n",
            " [0.02551772]\n",
            " [0.02537412]\n",
            " [0.02523135]\n",
            " [0.0250894 ]\n",
            " [0.02494827]\n",
            " [0.02480794]\n",
            " [0.02466843]\n",
            " [0.02452971]\n",
            " [0.0243918 ]\n",
            " [0.02425467]]\n"
          ],
          "name": "stdout"
        },
        {
          "output_type": "display_data",
          "data": {
            "image/png": "[encoded data removed]",
            "text/plain": [
              "<Figure size 432x288 with 1 Axes>"
            ]
          },
          "metadata": {
            "tags": []
          }
        }
      ]
    },
    {
      "cell_type": "code",
      "metadata": {
        "id": "WESEOA8s7g_O",
        "colab_type": "code",
        "colab": {}
      },
      "source": [
        "a = 40"
      ],
      "execution_count": 0,
      "outputs": []
    },
    {
      "cell_type": "code",
      "metadata": {
        "id": "gWmBYpKD7hsE",
        "colab_type": "code",
        "colab": {}
      },
      "source": [
        ""
      ],
      "execution_count": 0,
      "outputs": []
    }
  ]
}